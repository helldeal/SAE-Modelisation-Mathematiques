{
 "cells": [
  {
   "cell_type": "code",
   "execution_count": 17,
   "metadata": {},
   "outputs": [
    {
     "name": "stdout",
     "output_type": "stream",
     "text": [
      "Note: you may need to restart the kernel to use updated packages.\n"
     ]
    },
    {
     "name": "stderr",
     "output_type": "stream",
     "text": [
      "ERROR: Could not find a version that satisfies the requirement pyexpat (from versions: none)\n",
      "ERROR: No matching distribution found for pyexpat\n"
     ]
    },
    {
     "name": "stdout",
     "output_type": "stream",
     "text": [
      "Requirement already satisfied: scikit-learn in c:\\python312\\lib\\site-packages (1.3.2)\n",
      "Requirement already satisfied: numpy<2.0,>=1.17.3 in c:\\python312\\lib\\site-packages (from scikit-learn) (1.26.2)\n",
      "Requirement already satisfied: scipy>=1.5.0 in c:\\python312\\lib\\site-packages (from scikit-learn) (1.11.4)\n",
      "Requirement already satisfied: joblib>=1.1.1 in c:\\python312\\lib\\site-packages (from scikit-learn) (1.3.2)\n",
      "Requirement already satisfied: threadpoolctl>=2.0.0 in c:\\python312\\lib\\site-packages (from scikit-learn) (3.2.0)\n",
      "Note: you may need to restart the kernel to use updated packages.\n",
      "Requirement already satisfied: tqdm in c:\\python312\\lib\\site-packages (4.66.1)\n",
      "Requirement already satisfied: colorama in c:\\python312\\lib\\site-packages (from tqdm) (0.4.6)\n",
      "Note: you may need to restart the kernel to use updated packages.\n",
      "Requirement already satisfied: pandas in c:\\python312\\lib\\site-packages (2.1.4)\n",
      "Requirement already satisfied: numpy<2,>=1.26.0 in c:\\python312\\lib\\site-packages (from pandas) (1.26.2)\n",
      "Requirement already satisfied: python-dateutil>=2.8.2 in c:\\python312\\lib\\site-packages (from pandas) (2.8.2)\n",
      "Requirement already satisfied: pytz>=2020.1 in c:\\python312\\lib\\site-packages (from pandas) (2023.3.post1)\n",
      "Requirement already satisfied: tzdata>=2022.1 in c:\\python312\\lib\\site-packages (from pandas) (2023.3)\n",
      "Requirement already satisfied: six>=1.5 in c:\\python312\\lib\\site-packages (from python-dateutil>=2.8.2->pandas) (1.16.0)\n",
      "Note: you may need to restart the kernel to use updated packages.\n",
      "Requirement already satisfied: spacy in c:\\python312\\lib\\site-packages (3.7.2)\n",
      "Requirement already satisfied: spacy-legacy<3.1.0,>=3.0.11 in c:\\python312\\lib\\site-packages (from spacy) (3.0.12)\n",
      "Requirement already satisfied: spacy-loggers<2.0.0,>=1.0.0 in c:\\python312\\lib\\site-packages (from spacy) (1.0.5)\n",
      "Requirement already satisfied: murmurhash<1.1.0,>=0.28.0 in c:\\python312\\lib\\site-packages (from spacy) (1.0.10)\n",
      "Requirement already satisfied: cymem<2.1.0,>=2.0.2 in c:\\python312\\lib\\site-packages (from spacy) (2.0.8)\n",
      "Requirement already satisfied: preshed<3.1.0,>=3.0.2 in c:\\python312\\lib\\site-packages (from spacy) (3.0.9)\n",
      "Requirement already satisfied: thinc<8.3.0,>=8.1.8 in c:\\python312\\lib\\site-packages (from spacy) (8.2.2)\n",
      "Requirement already satisfied: wasabi<1.2.0,>=0.9.1 in c:\\python312\\lib\\site-packages (from spacy) (1.1.2)\n",
      "Requirement already satisfied: srsly<3.0.0,>=2.4.3 in c:\\python312\\lib\\site-packages (from spacy) (2.4.8)\n",
      "Requirement already satisfied: catalogue<2.1.0,>=2.0.6 in c:\\python312\\lib\\site-packages (from spacy) (2.0.10)\n",
      "Requirement already satisfied: weasel<0.4.0,>=0.1.0 in c:\\python312\\lib\\site-packages (from spacy) (0.3.4)\n",
      "Requirement already satisfied: typer<0.10.0,>=0.3.0 in c:\\python312\\lib\\site-packages (from spacy) (0.9.0)\n",
      "Requirement already satisfied: smart-open<7.0.0,>=5.2.1 in c:\\python312\\lib\\site-packages (from spacy) (6.4.0)\n",
      "Requirement already satisfied: tqdm<5.0.0,>=4.38.0 in c:\\python312\\lib\\site-packages (from spacy) (4.66.1)\n",
      "Requirement already satisfied: requests<3.0.0,>=2.13.0 in c:\\python312\\lib\\site-packages (from spacy) (2.31.0)\n",
      "Requirement already satisfied: pydantic!=1.8,!=1.8.1,<3.0.0,>=1.7.4 in c:\\python312\\lib\\site-packages (from spacy) (2.5.2)\n",
      "Requirement already satisfied: jinja2 in c:\\python312\\lib\\site-packages (from spacy) (3.1.2)\n",
      "Requirement already satisfied: setuptools in c:\\python312\\lib\\site-packages (from spacy) (69.0.2)\n",
      "Requirement already satisfied: packaging>=20.0 in c:\\python312\\lib\\site-packages (from spacy) (23.2)\n",
      "Requirement already satisfied: langcodes<4.0.0,>=3.2.0 in c:\\python312\\lib\\site-packages (from spacy) (3.3.0)\n",
      "Requirement already satisfied: numpy>=1.19.0 in c:\\python312\\lib\\site-packages (from spacy) (1.26.2)\n",
      "Requirement already satisfied: annotated-types>=0.4.0 in c:\\python312\\lib\\site-packages (from pydantic!=1.8,!=1.8.1,<3.0.0,>=1.7.4->spacy) (0.6.0)\n",
      "Requirement already satisfied: pydantic-core==2.14.5 in c:\\python312\\lib\\site-packages (from pydantic!=1.8,!=1.8.1,<3.0.0,>=1.7.4->spacy) (2.14.5)\n",
      "Requirement already satisfied: typing-extensions>=4.6.1 in c:\\python312\\lib\\site-packages (from pydantic!=1.8,!=1.8.1,<3.0.0,>=1.7.4->spacy) (4.9.0)\n",
      "Requirement already satisfied: charset-normalizer<4,>=2 in c:\\python312\\lib\\site-packages (from requests<3.0.0,>=2.13.0->spacy) (3.3.2)\n",
      "Requirement already satisfied: idna<4,>=2.5 in c:\\python312\\lib\\site-packages (from requests<3.0.0,>=2.13.0->spacy) (3.6)\n",
      "Requirement already satisfied: urllib3<3,>=1.21.1 in c:\\python312\\lib\\site-packages (from requests<3.0.0,>=2.13.0->spacy) (2.1.0)\n",
      "Requirement already satisfied: certifi>=2017.4.17 in c:\\python312\\lib\\site-packages (from requests<3.0.0,>=2.13.0->spacy) (2023.11.17)\n",
      "Requirement already satisfied: blis<0.8.0,>=0.7.8 in c:\\python312\\lib\\site-packages (from thinc<8.3.0,>=8.1.8->spacy) (0.7.11)\n",
      "Requirement already satisfied: confection<1.0.0,>=0.0.1 in c:\\python312\\lib\\site-packages (from thinc<8.3.0,>=8.1.8->spacy) (0.1.4)\n",
      "Requirement already satisfied: colorama in c:\\python312\\lib\\site-packages (from tqdm<5.0.0,>=4.38.0->spacy) (0.4.6)\n",
      "Requirement already satisfied: click<9.0.0,>=7.1.1 in c:\\python312\\lib\\site-packages (from typer<0.10.0,>=0.3.0->spacy) (8.1.7)\n",
      "Requirement already satisfied: cloudpathlib<0.17.0,>=0.7.0 in c:\\python312\\lib\\site-packages (from weasel<0.4.0,>=0.1.0->spacy) (0.16.0)\n",
      "Requirement already satisfied: MarkupSafe>=2.0 in c:\\python312\\lib\\site-packages (from jinja2->spacy) (2.1.3)\n",
      "Note: you may need to restart the kernel to use updated packages.\n",
      "^C\n"
     ]
    }
   ],
   "source": [
    "%pip install pyexpat\n",
    "%pip install scikit-learn\n",
    "%pip install tqdm\n",
    "%pip install pandas\n",
    "%pip install spacy\n",
    "!python -m spacy download en_core_web_sm"
   ]
  },
  {
   "cell_type": "code",
   "execution_count": null,
   "metadata": {},
   "outputs": [],
   "source": [
    "from pyexpat import model\n",
    "from sklearn.neighbors import KNeighborsClassifier\n",
    "\n",
    "from tqdm import tqdm\n",
    "import pandas as pd\n",
    "from sklearn.feature_extraction.text import CountVectorizer\n",
    "from sklearn.model_selection import train_test_split, GridSearchCV\n",
    "from sklearn.metrics import classification_report\n",
    "import spacy\n",
    "import json\n",
    "\n",
    "class bcolors:\n",
    "    HEADER = '\\033[95m'\n",
    "    OKBLUE = '\\033[94m'\n",
    "    OKCYAN = '\\033[96m'\n",
    "    OKGREEN = '\\033[92m'\n",
    "    WARNING = '\\033[93m'\n",
    "    FAIL = '\\033[91m'\n",
    "    ENDC = '\\033[0m'\n",
    "    BOLD = '\\033[1m'\n",
    "    UNDERLINE = '\\033[4m'"
   ]
  },
  {
   "cell_type": "code",
   "execution_count": null,
   "metadata": {},
   "outputs": [],
   "source": [
    "def preTraitement():\n",
    "    data_list = []\n",
    "\n",
    "    with open('goodreads_reviews_spoiler.json', 'r') as fichier_json:\n",
    "        lines = fichier_json.readlines()  \n",
    "        for ligne in tqdm(lines, desc='Chargement des données'):\n",
    "            try:\n",
    "                objet_json = json.loads(ligne)\n",
    "                data_list.append(objet_json)\n",
    "            except json.JSONDecodeError:\n",
    "                pass\n",
    "\n",
    "    df = pd.json_normalize(data_list)\n",
    "\n",
    "    df = df[df['has_spoiler'] == True]\n",
    "\n",
    "    data_json = df.to_dict(orient='records')\n",
    "\n",
    "    with open('onlyspoilers.json', 'w') as fichier_resultat:\n",
    "        json.dump(data_json, fichier_resultat, indent=4)"
   ]
  },
  {
   "cell_type": "code",
   "execution_count": null,
   "metadata": {},
   "outputs": [],
   "source": [
    "def spoilersFilter():\n",
    "    print(bcolors.OKBLUE + \"Chargment des données...\" + bcolors.ENDC)\n",
    "    df = pd.read_json('onlyspoilers.json')\n",
    "    print(bcolors.OKGREEN + \"OK\" + bcolors.ENDC)\n",
    "\n",
    "    print(bcolors.OKBLUE + \"Filtrage...\" + bcolors.ENDC)\n",
    "    df = df.drop_duplicates(subset=['user_id', 'book_id'])\n",
    "    df['full_text'] = df['review_sentences'].apply(lambda sentences: ' '.join([sentence[1] for sentence in sentences]))\n",
    "    df['label'] = df['rating'].apply(lambda x: 1 if x >= 3 else 0)  # 1 pour favorable, 0 pour défavorable\n",
    "    df = df[['rating', 'label','full_text']]\n",
    "    df = df.dropna(subset=['rating', 'label', 'full_text'])\n",
    "    print(bcolors.OKGREEN + \"OK\" + bcolors.ENDC)\n",
    "\n",
    "    print(bcolors.OKBLUE + \"Ecriture dans data.json...\" + bcolors.ENDC)\n",
    "    data_json = df.to_dict(orient='records')\n",
    "    with open('data.json', 'w') as fichier_resultat:\n",
    "        json.dump(data_json, fichier_resultat, indent=4)\n",
    "    print(bcolors.OKGREEN + \"OK\" + bcolors.ENDC)"
   ]
  },
  {
   "cell_type": "code",
   "execution_count": null,
   "metadata": {},
   "outputs": [
    {
     "name": "stderr",
     "output_type": "stream",
     "text": [
      "Chargement des données: 100%|██████████| 1378033/1378033 [01:14<00:00, 18601.20it/s]\n"
     ]
    },
    {
     "name": "stdout",
     "output_type": "stream",
     "text": [
      "\u001b[94mChargment des données...\u001b[0m\n",
      "\u001b[92mOK\u001b[0m\n",
      "\u001b[94mFiltrage...\u001b[0m\n",
      "\u001b[92mOK\u001b[0m\n",
      "\u001b[94mEcriture dans data.json...\u001b[0m\n",
      "\u001b[92mOK\u001b[0m\n"
     ]
    }
   ],
   "source": [
    "preTraitement()\n",
    "spoilersFilter()"
   ]
  },
  {
   "cell_type": "code",
   "execution_count": null,
   "metadata": {},
   "outputs": [
    {
     "name": "stdout",
     "output_type": "stream",
     "text": [
      "\u001b[94mLecture...\u001b[0m\n",
      "\u001b[92mOK\u001b[0m\n",
      "\u001b[94mPrétraitement avec spaCy...\u001b[0m\n",
      "\u001b[96mnlp loading...\u001b[0m\n"
     ]
    },
    {
     "name": "stderr",
     "output_type": "stream",
     "text": [
      "100%|██████████| 89627/89627 [31:24<00:00, 47.55it/s]  \n"
     ]
    },
    {
     "name": "stdout",
     "output_type": "stream",
     "text": [
      "\u001b[92mOK\u001b[0m\n",
      "\u001b[94mVectorisation...\u001b[0m\n",
      "\u001b[92mOK\u001b[0m\n"
     ]
    }
   ],
   "source": [
    "print(bcolors.OKBLUE + \"Lecture...\" + bcolors.ENDC)\n",
    "df = pd.read_json('data.json')\n",
    "# df = df.head(20000)\n",
    "print(bcolors.OKGREEN + \"OK\" + bcolors.ENDC)\n",
    "\n",
    "# Prétraitement avec spaCy\n",
    "print(bcolors.OKBLUE + \"Prétraitement avec spaCy...\" + bcolors.ENDC)\n",
    "nlp = spacy.load(\"en_core_web_sm\", disable=[\"parser\", \"ner\"])\n",
    "print(bcolors.OKCYAN + \"nlp loading...\" + bcolors.ENDC)\n",
    "def preprocess(texts):\n",
    "    return [' '.join([token.lemma_ for token in doc if not token.is_stop and not token.is_punct]) \n",
    "            for doc in tqdm(nlp.pipe(texts, batch_size=50), total=len(texts))]\n",
    "\n",
    "df['processed_text'] = preprocess(df['full_text'].tolist())\n",
    "print(bcolors.OKGREEN + \"OK\" + bcolors.ENDC)\n",
    "\n",
    "# Vectorisation\n",
    "print(bcolors.OKBLUE + \"Vectorisation...\" + bcolors.ENDC)\n",
    "vectorizer = CountVectorizer()\n",
    "X = vectorizer.fit_transform(df['processed_text'])\n",
    "print(bcolors.OKGREEN + \"OK\" + bcolors.ENDC)"
   ]
  },
  {
   "cell_type": "code",
   "execution_count": 18,
   "metadata": {},
   "outputs": [
    {
     "name": "stdout",
     "output_type": "stream",
     "text": [
      "\u001b[94mKNN...\u001b[0m\n",
      "Collecting en-core-web-sm==3.7.1\n",
      "  Downloading https://github.com/explosion/spacy-models/releases/download/en_core_web_sm-3.7.1/en_core_web_sm-3.7.1-py3-none-any.whl (12.8 MB)\n",
      "     ---------------------------------------- 0.0/12.8 MB ? eta -:--:--\n",
      "     ---------------------------------------- 0.0/12.8 MB ? eta -:--:--\n",
      "     ---------------------------------------- 0.0/12.8 MB ? eta -:--:--\n",
      "     --------------------------------------- 0.0/12.8 MB 279.3 kB/s eta 0:00:46\n",
      "      --------------------------------------- 0.3/12.8 MB 1.4 MB/s eta 0:00:09\n",
      "     -- ------------------------------------- 0.8/12.8 MB 3.7 MB/s eta 0:00:04\n",
      "     ----- ---------------------------------- 1.7/12.8 MB 6.4 MB/s eta 0:00:02\n",
      "     -------- ------------------------------- 2.8/12.8 MB 8.8 MB/s eta 0:00:02\n",
      "     ----------- ---------------------------- 3.8/12.8 MB 10.5 MB/s eta 0:00:01\n",
      "     --------------- ------------------------ 4.9/12.8 MB 12.0 MB/s eta 0:00:01\n",
      "     ------------------ --------------------- 6.0/12.8 MB 13.3 MB/s eta 0:00:01\n",
      "     ------------------ --------------------- 6.0/12.8 MB 13.3 MB/s eta 0:00:01\n",
      "     ------------------- -------------------- 6.3/12.8 MB 11.6 MB/s eta 0:00:01\n",
      "     ----------------------- ---------------- 7.4/12.8 MB 12.8 MB/s eta 0:00:01\n",
      "     ------------------------ --------------- 7.9/12.8 MB 12.6 MB/s eta 0:00:01\n",
      "     ---------------------------- ----------- 9.0/12.8 MB 13.0 MB/s eta 0:00:01\n",
      "     ------------------------------- ------- 10.2/12.8 MB 14.5 MB/s eta 0:00:01\n",
      "     ------------------------------- ------- 10.2/12.8 MB 14.5 MB/s eta 0:00:01\n",
      "     ------------------------------- ------- 10.2/12.8 MB 14.5 MB/s eta 0:00:01\n",
      "     ------------------------------------ -- 12.0/12.8 MB 17.2 MB/s eta 0:00:01\n",
      "     --------------------------------------- 12.8/12.8 MB 16.8 MB/s eta 0:00:00\n",
      "Requirement already satisfied: spacy<3.8.0,>=3.7.2 in c:\\python312\\lib\\site-packages (from en-core-web-sm==3.7.1) (3.7.2)\n",
      "Requirement already satisfied: spacy-legacy<3.1.0,>=3.0.11 in c:\\python312\\lib\\site-packages (from spacy<3.8.0,>=3.7.2->en-core-web-sm==3.7.1) (3.0.12)\n",
      "Requirement already satisfied: spacy-loggers<2.0.0,>=1.0.0 in c:\\python312\\lib\\site-packages (from spacy<3.8.0,>=3.7.2->en-core-web-sm==3.7.1) (1.0.5)\n",
      "Requirement already satisfied: murmurhash<1.1.0,>=0.28.0 in c:\\python312\\lib\\site-packages (from spacy<3.8.0,>=3.7.2->en-core-web-sm==3.7.1) (1.0.10)\n",
      "Requirement already satisfied: cymem<2.1.0,>=2.0.2 in c:\\python312\\lib\\site-packages (from spacy<3.8.0,>=3.7.2->en-core-web-sm==3.7.1) (2.0.8)\n",
      "Requirement already satisfied: preshed<3.1.0,>=3.0.2 in c:\\python312\\lib\\site-packages (from spacy<3.8.0,>=3.7.2->en-core-web-sm==3.7.1) (3.0.9)\n",
      "Requirement already satisfied: thinc<8.3.0,>=8.1.8 in c:\\python312\\lib\\site-packages (from spacy<3.8.0,>=3.7.2->en-core-web-sm==3.7.1) (8.2.2)\n",
      "Requirement already satisfied: wasabi<1.2.0,>=0.9.1 in c:\\python312\\lib\\site-packages (from spacy<3.8.0,>=3.7.2->en-core-web-sm==3.7.1) (1.1.2)\n",
      "Requirement already satisfied: srsly<3.0.0,>=2.4.3 in c:\\python312\\lib\\site-packages (from spacy<3.8.0,>=3.7.2->en-core-web-sm==3.7.1) (2.4.8)\n",
      "Requirement already satisfied: catalogue<2.1.0,>=2.0.6 in c:\\python312\\lib\\site-packages (from spacy<3.8.0,>=3.7.2->en-core-web-sm==3.7.1) (2.0.10)\n",
      "Requirement already satisfied: weasel<0.4.0,>=0.1.0 in c:\\python312\\lib\\site-packages (from spacy<3.8.0,>=3.7.2->en-core-web-sm==3.7.1) (0.3.4)\n",
      "Requirement already satisfied: typer<0.10.0,>=0.3.0 in c:\\python312\\lib\\site-packages (from spacy<3.8.0,>=3.7.2->en-core-web-sm==3.7.1) (0.9.0)\n",
      "Requirement already satisfied: smart-open<7.0.0,>=5.2.1 in c:\\python312\\lib\\site-packages (from spacy<3.8.0,>=3.7.2->en-core-web-sm==3.7.1) (6.4.0)\n",
      "Requirement already satisfied: tqdm<5.0.0,>=4.38.0 in c:\\python312\\lib\\site-packages (from spacy<3.8.0,>=3.7.2->en-core-web-sm==3.7.1) (4.66.1)\n",
      "Requirement already satisfied: requests<3.0.0,>=2.13.0 in c:\\python312\\lib\\site-packages (from spacy<3.8.0,>=3.7.2->en-core-web-sm==3.7.1) (2.31.0)\n",
      "Requirement already satisfied: pydantic!=1.8,!=1.8.1,<3.0.0,>=1.7.4 in c:\\python312\\lib\\site-packages (from spacy<3.8.0,>=3.7.2->en-core-web-sm==3.7.1) (2.5.2)\n",
      "Requirement already satisfied: jinja2 in c:\\python312\\lib\\site-packages (from spacy<3.8.0,>=3.7.2->en-core-web-sm==3.7.1) (3.1.2)\n",
      "Requirement already satisfied: setuptools in c:\\python312\\lib\\site-packages (from spacy<3.8.0,>=3.7.2->en-core-web-sm==3.7.1) (69.0.2)\n",
      "Requirement already satisfied: packaging>=20.0 in c:\\python312\\lib\\site-packages (from spacy<3.8.0,>=3.7.2->en-core-web-sm==3.7.1) (23.2)\n",
      "Requirement already satisfied: langcodes<4.0.0,>=3.2.0 in c:\\python312\\lib\\site-packages (from spacy<3.8.0,>=3.7.2->en-core-web-sm==3.7.1) (3.3.0)\n",
      "Requirement already satisfied: numpy>=1.19.0 in c:\\python312\\lib\\site-packages (from spacy<3.8.0,>=3.7.2->en-core-web-sm==3.7.1) (1.26.2)\n",
      "Requirement already satisfied: annotated-types>=0.4.0 in c:\\python312\\lib\\site-packages (from pydantic!=1.8,!=1.8.1,<3.0.0,>=1.7.4->spacy<3.8.0,>=3.7.2->en-core-web-sm==3.7.1) (0.6.0)\n",
      "Requirement already satisfied: pydantic-core==2.14.5 in c:\\python312\\lib\\site-packages (from pydantic!=1.8,!=1.8.1,<3.0.0,>=1.7.4->spacy<3.8.0,>=3.7.2->en-core-web-sm==3.7.1) (2.14.5)\n",
      "Requirement already satisfied: typing-extensions>=4.6.1 in c:\\python312\\lib\\site-packages (from pydantic!=1.8,!=1.8.1,<3.0.0,>=1.7.4->spacy<3.8.0,>=3.7.2->en-core-web-sm==3.7.1) (4.9.0)\n",
      "Requirement already satisfied: charset-normalizer<4,>=2 in c:\\python312\\lib\\site-packages (from requests<3.0.0,>=2.13.0->spacy<3.8.0,>=3.7.2->en-core-web-sm==3.7.1) (3.3.2)\n",
      "Requirement already satisfied: idna<4,>=2.5 in c:\\python312\\lib\\site-packages (from requests<3.0.0,>=2.13.0->spacy<3.8.0,>=3.7.2->en-core-web-sm==3.7.1) (3.6)\n",
      "Requirement already satisfied: urllib3<3,>=1.21.1 in c:\\python312\\lib\\site-packages (from requests<3.0.0,>=2.13.0->spacy<3.8.0,>=3.7.2->en-core-web-sm==3.7.1) (2.1.0)\n",
      "Requirement already satisfied: certifi>=2017.4.17 in c:\\python312\\lib\\site-packages (from requests<3.0.0,>=2.13.0->spacy<3.8.0,>=3.7.2->en-core-web-sm==3.7.1) (2023.11.17)\n",
      "Requirement already satisfied: blis<0.8.0,>=0.7.8 in c:\\python312\\lib\\site-packages (from thinc<8.3.0,>=8.1.8->spacy<3.8.0,>=3.7.2->en-core-web-sm==3.7.1) (0.7.11)\n",
      "Requirement already satisfied: confection<1.0.0,>=0.0.1 in c:\\python312\\lib\\site-packages (from thinc<8.3.0,>=8.1.8->spacy<3.8.0,>=3.7.2->en-core-web-sm==3.7.1) (0.1.4)\n",
      "Requirement already satisfied: colorama in c:\\python312\\lib\\site-packages (from tqdm<5.0.0,>=4.38.0->spacy<3.8.0,>=3.7.2->en-core-web-sm==3.7.1) (0.4.6)\n",
      "Requirement already satisfied: click<9.0.0,>=7.1.1 in c:\\python312\\lib\\site-packages (from typer<0.10.0,>=0.3.0->spacy<3.8.0,>=3.7.2->en-core-web-sm==3.7.1) (8.1.7)\n",
      "Requirement already satisfied: cloudpathlib<0.17.0,>=0.7.0 in c:\\python312\\lib\\site-packages (from weasel<0.4.0,>=0.1.0->spacy<3.8.0,>=3.7.2->en-core-web-sm==3.7.1) (0.16.0)\n",
      "Requirement already satisfied: MarkupSafe>=2.0 in c:\\python312\\lib\\site-packages (from jinja2->spacy<3.8.0,>=3.7.2->en-core-web-sm==3.7.1) (2.1.3)\n",
      "\u001b[38;5;2m✔ Download and installation successful\u001b[0m\n",
      "You can now load the package via spacy.load('en_core_web_sm')\n",
      "\u001b[92mOK\u001b[0m\n",
      "\u001b[94mÉvaluation de KNN...\u001b[0m\n",
      "KNN Classification Report\n",
      "              precision    recall  f1-score   support\n",
      "\n",
      "           0       0.28      0.02      0.04      2993\n",
      "           1       0.83      0.99      0.91     14933\n",
      "\n",
      "    accuracy                           0.83     17926\n",
      "   macro avg       0.56      0.51      0.47     17926\n",
      "weighted avg       0.74      0.83      0.76     17926\n",
      "\n",
      "\u001b[92mOK\u001b[0m\n"
     ]
    }
   ],
   "source": [
    "y = df['label']\n",
    "X_train, X_test, y_train, y_test = train_test_split(X, y, test_size=0.2, random_state=42)\n",
    "\n",
    "# KNN\n",
    "print(bcolors.OKBLUE + \"KNN...\" + bcolors.ENDC)\n",
    "knn_model = KNeighborsClassifier()\n",
    "knn_params = {'n_neighbors': [3, 5, 7, 9]}\n",
    "knn_clf = GridSearchCV(knn_model, knn_params)\n",
    "knn_clf.fit(X_train, y_train)\n",
    "print(bcolors.OKGREEN + \"OK\" + bcolors.ENDC)\n",
    "\n",
    "\n",
    "# Évaluation de KNN\n",
    "print(bcolors.OKBLUE + \"Évaluation de KNN...\" + bcolors.ENDC)\n",
    "y_pred_knn = knn_clf.predict(X_test)\n",
    "print(\"KNN Classification Report\")\n",
    "print(classification_report(y_test, y_pred_knn, zero_division=1))\n",
    "print(bcolors.OKGREEN + \"OK\" + bcolors.ENDC)"
   ]
  },
  {
   "cell_type": "code",
   "execution_count": 20,
   "metadata": {},
   "outputs": [
    {
     "name": "stdout",
     "output_type": "stream",
     "text": [
      "\u001b[94mKNN...\u001b[0m\n",
      "\u001b[92mOK\u001b[0m\n",
      "\u001b[94mÉvaluation de KNN...\u001b[0m\n",
      "KNN Classification Report\n",
      "              precision    recall  f1-score   support\n",
      "\n",
      "           0       0.05      0.05      0.05       285\n",
      "           1       0.05      0.02      0.03       675\n",
      "           2       0.18      0.05      0.07      2033\n",
      "           3       0.31      0.31      0.31      4531\n",
      "           4       0.37      0.49      0.42      6147\n",
      "           5       0.38      0.37      0.38      4255\n",
      "\n",
      "    accuracy                           0.34     17926\n",
      "   macro avg       0.23      0.21      0.21     17926\n",
      "weighted avg       0.32      0.34      0.32     17926\n",
      "\n",
      "\u001b[92mOK\u001b[0m\n"
     ]
    }
   ],
   "source": [
    "y = df['rating']  \n",
    "X_train, X_test, y_train, y_test = train_test_split(X, y, test_size=0.2, random_state=42)\n",
    "\n",
    "# KNN\n",
    "print(bcolors.OKBLUE + \"KNN...\" + bcolors.ENDC)\n",
    "knn_model = KNeighborsClassifier()\n",
    "knn_params = {'n_neighbors': [3, 5, 7, 9]}\n",
    "knn_clf = GridSearchCV(knn_model, knn_params)\n",
    "knn_clf.fit(X_train, y_train)\n",
    "print(bcolors.OKGREEN + \"OK\" + bcolors.ENDC)\n",
    "\n",
    "\n",
    "# Évaluation de KNN\n",
    "print(bcolors.OKBLUE + \"Évaluation de KNN...\" + bcolors.ENDC)\n",
    "y_pred_knn = knn_clf.predict(X_test)\n",
    "print(\"KNN Classification Report\")\n",
    "print(classification_report(y_test, y_pred_knn, zero_division=1))\n",
    "print(bcolors.OKGREEN + \"OK\" + bcolors.ENDC)"
   ]
  },
  {
   "cell_type": "code",
   "execution_count": 26,
   "metadata": {},
   "outputs": [
    {
     "name": "stdout",
     "output_type": "stream",
     "text": [
      "[5]\n"
     ]
    }
   ],
   "source": [
    "print(knn_clf.predict(vectorizer.transform([\"Well, where do I even start. Let's start off with the fact that I came into this book completely blind; I had no idea what this book was about. In fact, for some reason I had this notion that this book was going to be about mental illness. So, seeing as how I came into this book knowing nothing about it, imagine my surprise when I started reading it and I read nonsense. Turns out, this book is filled with a made up language based off of Russian slang. I saw some reviews praising the author for making the slang accessible and easy to follow and learn. All I have to say about that is 'speak for yourself.' I had no idea how to read this and I was barely getting along until I finally looked up a glossary and memorized a few of the more commonly used words. Besides the difficulty I faced in reading this book, I guess I just don't \\\"get it.\\\" The ultraviolence turned me off, which I guess was the point, however, I know a lot of people felt sorry for Alex and what he went through, well, not me. I'm not saying he deserved  everything  he got, but he deserved a lot of it. He was a borderline psychopath who got off on violence and being an overall shitty human being. I have no sympathy for what he went through. I think what made me lose any and all compassion I might have had for him is when he  got two 10 year old girls drunk, brought them home, then raped them. I don't get the theme warning about government control and whatever -- maybe they crossed the line but it's hard to care when the only example of that we're showed is what happened to Alex. Overall, I thought this book sucked. I almost gave up after page 20 but I powered through thinking about all the good reviews on goodreads. In hindsight, I should have just read wikipedia. This book was a real pain in the ass to read. If anyone wants to try and explain to me whatever I'm not seeing, that'd be nice. Can't say I'd agree with you, though.\"])))"
   ]
  }
 ],
 "metadata": {
  "kernelspec": {
   "display_name": "Python 3",
   "language": "python",
   "name": "python3"
  },
  "language_info": {
   "codemirror_mode": {
    "name": "ipython",
    "version": 3
   },
   "file_extension": ".py",
   "mimetype": "text/x-python",
   "name": "python",
   "nbconvert_exporter": "python",
   "pygments_lexer": "ipython3",
   "version": "3.12.0"
  }
 },
 "nbformat": 4,
 "nbformat_minor": 2
}
